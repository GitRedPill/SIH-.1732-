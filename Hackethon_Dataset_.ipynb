{
  "nbformat": 4,
  "nbformat_minor": 0,
  "metadata": {
    "colab": {
      "provenance": []
    },
    "kernelspec": {
      "name": "python3",
      "display_name": "Python 3"
    },
    "language_info": {
      "name": "python"
    }
  },
  "cells": [
    {
      "cell_type": "code",
      "execution_count": null,
      "metadata": {
        "id": "jtNisvT-bXj1"
      },
      "outputs": [],
      "source": [
        "# Install required libraries\n",
        "!pip install tensorflow keras opencv-python scikit-image matplotlib\n"
      ]
    },
    {
      "cell_type": "code",
      "source": [
        "import tensorflow as tf\n",
        "from tensorflow.keras.models import Sequential\n",
        "from tensorflow.keras.layers import Conv2D, BatchNormalization, ReLU, Add, Input\n",
        "from tensorflow.keras.optimizers import Adam\n",
        "import cv2\n",
        "import numpy as np\n",
        "import matplotlib.pyplot as plt\n",
        "from skimage import exposure\n",
        "from google.colab import files\n",
        "import os\n"
      ],
      "metadata": {
        "id": "szlR0GBGboDo"
      },
      "execution_count": null,
      "outputs": []
    },
    {
      "cell_type": "code",
      "source": [
        "# Upload moonimage dataset from your local machine\n",
        "uploaded = files.upload()\n",
        "\n",
        "# Assuming the uploaded files are in a zip format, extract them\n",
        "import zipfile\n",
        "for filename in uploaded.keys():\n",
        "    if filename.endswith('.zip'):\n",
        "        with zipfile.ZipFile(filename, 'r') as zip_ref:\n",
        "            zip_ref.extractall('./moonimage')\n",
        "\n",
        "# List files to ensure they are uploaded correctly\n",
        "import os\n",
        "data_path = './moonimage/'\n",
        "print(os.listdir(data_path))\n"
      ],
      "metadata": {
        "id": "71-B3BYqbrGH"
      },
      "execution_count": null,
      "outputs": []
    },
    {
      "cell_type": "code",
      "source": [
        "def load_images_from_folder(folder):\n",
        "    images = []\n",
        "    for filename in os.listdir(folder):\n",
        "        img = cv2.imread(os.path.join(folder,filename))\n",
        "        if img is not None:\n",
        "            # Convert the image to grayscale and normalize\n",
        "            img = cv2.cvtColor(img, cv2.COLOR_BGR2GRAY)\n",
        "            img = img.astype('float32') / 255.0\n",
        "            images.append(img)\n",
        "    return np.array(images)\n",
        "\n",
        "# Load the images\n",
        "moon_images = load_images_from_folder(data_path)\n",
        "\n",
        "# Reshape for the neural network (assuming images are 256x256 pixels)\n",
        "moon_images = np.reshape(moon_images, (-1, 256, 256, 1))\n",
        "\n",
        "# Split into training and test sets\n",
        "from sklearn.model_selection import train_test_split\n",
        "train_images, test_images = train_test_split(moon_images, test_size=0.2, random_state=42)\n"
      ],
      "metadata": {
        "id": "hgUz8PMvbtRB"
      },
      "execution_count": null,
      "outputs": []
    },
    {
      "cell_type": "code",
      "source": [
        "def build_model(input_shape):\n",
        "    model = Sequential()\n",
        "\n",
        "    # Convolutional Layers\n",
        "    model.add(Input(shape=input_shape))\n",
        "    model.add(Conv2D(64, kernel_size=(3, 3), padding='same'))\n",
        "    model.add(ReLU())\n",
        "\n",
        "    # Residual Blocks\n",
        "    for _ in range(5):\n",
        "        skip = model.layers[-1].output\n",
        "        x = Conv2D(64, kernel_size=(3, 3), padding='same')(skip)\n",
        "        x = ReLU()(x)\n",
        "        x = Conv2D(64, kernel_size=(3, 3), padding='same')(x)\n",
        "        x = Add()([x, skip])\n",
        "        model.add(BatchNormalization()(x))\n",
        "\n",
        "    # Final Conv Layer\n",
        "    model.add(Conv2D(1, kernel_size=(3, 3), padding='same'))\n",
        "\n",
        "    return model\n",
        "\n",
        "model = build_model(input_shape=(256, 256, 1))\n",
        "model.compile(optimizer=Adam(learning_rate=0.001), loss='mean_squared_error', metrics=['accuracy'])\n",
        "model.summary()\n"
      ],
      "metadata": {
        "id": "Ft1ylkARbxEt"
      },
      "execution_count": null,
      "outputs": []
    },
    {
      "cell_type": "code",
      "source": [
        "# Train the model\n",
        "history = model.fit(train_images, train_images,\n",
        "                    epochs=50,\n",
        "                    batch_size=16,\n",
        "                    validation_data=(test_images, test_images))\n",
        "\n",
        "# Plot training history\n",
        "plt.plot(history.history['loss'], label='Loss')\n",
        "plt.plot(history.history['val_loss'], label='Validation Loss')\n",
        "plt.xlabel('Epoch')\n",
        "plt.ylabel('Loss')\n",
        "plt.legend()\n",
        "plt.show()\n"
      ],
      "metadata": {
        "id": "4wYEIByFb8TU"
      },
      "execution_count": null,
      "outputs": []
    },
    {
      "cell_type": "code",
      "source": [
        "# Test the model\n",
        "test_output = model.predict(test_images)\n",
        "\n",
        "# Display a few sample results\n",
        "n = 5  # Number of samples to display\n",
        "plt.figure(figsize=(15, 10))\n",
        "for i in range(n):\n",
        "    plt.subplot(2, n, i + 1)\n",
        "    plt.imshow(test_images[i].reshape(256, 256), cmap='gray')\n",
        "    plt.title(\"Original\")\n",
        "    plt.axis('off')\n",
        "\n",
        "    plt.subplot(2, n, i + n + 1)\n",
        "    plt.imshow(test_output[i].reshape(256, 256), cmap='gray')\n",
        "    plt.title(\"Enhanced\")\n",
        "    plt.axis('off')\n",
        "plt.show()\n"
      ],
      "metadata": {
        "id": "E7QAnfjqb_h5"
      },
      "execution_count": null,
      "outputs": []
    },
    {
      "cell_type": "code",
      "source": [
        "# Save the trained model\n",
        "model.save('low_light_image_enhancement.h5')\n"
      ],
      "metadata": {
        "id": "XZTNFS7ocDgI"
      },
      "execution_count": null,
      "outputs": []
    }
  ]
}